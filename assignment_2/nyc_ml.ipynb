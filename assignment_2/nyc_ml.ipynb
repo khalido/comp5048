{
 "cells": [
  {
   "cell_type": "code",
   "execution_count": 95,
   "metadata": {},
   "outputs": [
    {
     "name": "stderr",
     "output_type": "stream",
     "text": [
      "/anaconda3/lib/python3.7/site-packages/tqdm/std.py:648: FutureWarning: The Panel class is removed from pandas. Accessing it from the top-level namespace will also be removed in the next version\n",
      "  from pandas import Panel\n"
     ]
    }
   ],
   "source": [
    "import streamlit as st\n",
    "\n",
    "import numpy as np\n",
    "import pandas as pd\n",
    "\n",
    "import matplotlib.pyplot as plt\n",
    "import seaborn as sns\n",
    "from IPython.display import Markdown, display\n",
    "\n",
    "import os\n",
    "\n",
    "from sklearn import metrics\n",
    "from sklearn.model_selection import train_test_split\n",
    "from sklearn.preprocessing import StandardScaler\n",
    "\n",
    "import spacy\n",
    "nlp = spacy.load(\"en_core_web_sm\")\n",
    "stop_words = spacy.lang.en.stop_words.STOP_WORDS\n",
    "parser = English()\n",
    "\n",
    "import string\n",
    "from spacy.lang.en.stop_words import STOP_WORDS\n",
    "from spacy.lang.en import English\n",
    "\n",
    "from tqdm import tqdm\n",
    "tqdm.pandas()\n",
    "\n",
    "def printmd(string):\n",
    "    display(Markdown(string))\n",
    "    \n",
    "#import plotly.express as px\n",
    "#px.set_mapbox_access_token(os.getenv(\"MAPBOX_TOKEN\"))"
   ]
  },
  {
   "cell_type": "markdown",
   "metadata": {},
   "source": [
    "# 1. Data"
   ]
  },
  {
   "cell_type": "code",
   "execution_count": 143,
   "metadata": {},
   "outputs": [
    {
     "name": "stdout",
     "output_type": "stream",
     "text": [
      "Loaded data of size: (48895, 16)\n",
      "Dropped outliers, data size: (38795, 19)\n",
      "(31036, 21)\n",
      "(0, 120]        17890\n",
      "(120, 350]      11855\n",
      "(350, 1500]      1244\n",
      "(1500, 9000]       47\n",
      "Name: price_type, dtype: int64\n"
     ]
    },
    {
     "data": {
      "text/html": [
       "<div>\n",
       "<style scoped>\n",
       "    .dataframe tbody tr th:only-of-type {\n",
       "        vertical-align: middle;\n",
       "    }\n",
       "\n",
       "    .dataframe tbody tr th {\n",
       "        vertical-align: top;\n",
       "    }\n",
       "\n",
       "    .dataframe thead th {\n",
       "        text-align: right;\n",
       "    }\n",
       "</style>\n",
       "<table border=\"1\" class=\"dataframe\">\n",
       "  <thead>\n",
       "    <tr style=\"text-align: right;\">\n",
       "      <th></th>\n",
       "      <th>id</th>\n",
       "      <th>name</th>\n",
       "      <th>host_id</th>\n",
       "      <th>host_name</th>\n",
       "      <th>neighbourhood_group</th>\n",
       "      <th>neighbourhood</th>\n",
       "      <th>latitude</th>\n",
       "      <th>longitude</th>\n",
       "      <th>room_type</th>\n",
       "      <th>price</th>\n",
       "      <th>...</th>\n",
       "      <th>number_of_reviews</th>\n",
       "      <th>last_review</th>\n",
       "      <th>reviews_per_month</th>\n",
       "      <th>calculated_host_listings_count</th>\n",
       "      <th>availability_365</th>\n",
       "      <th>year</th>\n",
       "      <th>month</th>\n",
       "      <th>day</th>\n",
       "      <th>price_type</th>\n",
       "      <th>name_vec</th>\n",
       "    </tr>\n",
       "  </thead>\n",
       "  <tbody>\n",
       "    <tr>\n",
       "      <th>38901</th>\n",
       "      <td>30435663</td>\n",
       "      <td>Magical Gramercy Apartment</td>\n",
       "      <td>113417140</td>\n",
       "      <td>Mya</td>\n",
       "      <td>Manhattan</td>\n",
       "      <td>Kips Bay</td>\n",
       "      <td>40.74022</td>\n",
       "      <td>-73.98003</td>\n",
       "      <td>Entire home/apt</td>\n",
       "      <td>200</td>\n",
       "      <td>...</td>\n",
       "      <td>2</td>\n",
       "      <td>2019-06-17</td>\n",
       "      <td>1.40</td>\n",
       "      <td>1</td>\n",
       "      <td>0</td>\n",
       "      <td>2019</td>\n",
       "      <td>6</td>\n",
       "      <td>17</td>\n",
       "      <td>(120, 350]</td>\n",
       "      <td>0.042063</td>\n",
       "    </tr>\n",
       "    <tr>\n",
       "      <th>35570</th>\n",
       "      <td>28230753</td>\n",
       "      <td>Private room w/ fire escape in beautiful Soho</td>\n",
       "      <td>6542295</td>\n",
       "      <td>Jon</td>\n",
       "      <td>Manhattan</td>\n",
       "      <td>SoHo</td>\n",
       "      <td>40.72668</td>\n",
       "      <td>-74.00252</td>\n",
       "      <td>Private room</td>\n",
       "      <td>100</td>\n",
       "      <td>...</td>\n",
       "      <td>6</td>\n",
       "      <td>2019-06-24</td>\n",
       "      <td>0.63</td>\n",
       "      <td>2</td>\n",
       "      <td>3</td>\n",
       "      <td>2019</td>\n",
       "      <td>6</td>\n",
       "      <td>24</td>\n",
       "      <td>(0, 120]</td>\n",
       "      <td>0.022482</td>\n",
       "    </tr>\n",
       "    <tr>\n",
       "      <th>25341</th>\n",
       "      <td>20268134</td>\n",
       "      <td>Spacious One Bedroom in Bed-Stuy</td>\n",
       "      <td>10414799</td>\n",
       "      <td>Katharina</td>\n",
       "      <td>Brooklyn</td>\n",
       "      <td>Bedford-Stuyvesant</td>\n",
       "      <td>40.69074</td>\n",
       "      <td>-73.93696</td>\n",
       "      <td>Entire home/apt</td>\n",
       "      <td>85</td>\n",
       "      <td>...</td>\n",
       "      <td>6</td>\n",
       "      <td>2018-12-30</td>\n",
       "      <td>0.33</td>\n",
       "      <td>2</td>\n",
       "      <td>5</td>\n",
       "      <td>2018</td>\n",
       "      <td>12</td>\n",
       "      <td>30</td>\n",
       "      <td>(0, 120]</td>\n",
       "      <td>0.039784</td>\n",
       "    </tr>\n",
       "  </tbody>\n",
       "</table>\n",
       "<p>3 rows × 21 columns</p>\n",
       "</div>"
      ],
      "text/plain": [
       "             id                                           name    host_id  \\\n",
       "38901  30435663                     Magical Gramercy Apartment  113417140   \n",
       "35570  28230753  Private room w/ fire escape in beautiful Soho    6542295   \n",
       "25341  20268134               Spacious One Bedroom in Bed-Stuy   10414799   \n",
       "\n",
       "       host_name neighbourhood_group       neighbourhood  latitude  longitude  \\\n",
       "38901        Mya           Manhattan            Kips Bay  40.74022  -73.98003   \n",
       "35570        Jon           Manhattan                SoHo  40.72668  -74.00252   \n",
       "25341  Katharina            Brooklyn  Bedford-Stuyvesant  40.69074  -73.93696   \n",
       "\n",
       "             room_type  price  ...  number_of_reviews  last_review  \\\n",
       "38901  Entire home/apt    200  ...                  2   2019-06-17   \n",
       "35570     Private room    100  ...                  6   2019-06-24   \n",
       "25341  Entire home/apt     85  ...                  6   2018-12-30   \n",
       "\n",
       "      reviews_per_month  calculated_host_listings_count  availability_365  \\\n",
       "38901              1.40                               1                 0   \n",
       "35570              0.63                               2                 3   \n",
       "25341              0.33                               2                 5   \n",
       "\n",
       "       year  month  day  price_type  name_vec  \n",
       "38901  2019      6   17  (120, 350]  0.042063  \n",
       "35570  2019      6   24    (0, 120]  0.022482  \n",
       "25341  2018     12   30    (0, 120]  0.039784  \n",
       "\n",
       "[3 rows x 21 columns]"
      ]
     },
     "execution_count": 143,
     "metadata": {},
     "output_type": "execute_result"
    }
   ],
   "source": [
    "prices =[\"cheap\", \"medium\", \"expensive\", \"superlux\"]\n",
    "\n",
    "def load_data(fraction=0.1, prices=prices):\n",
    "    df = pd.read_csv(\"AB_NYC_2019.csv\")\n",
    "    print(f\"Loaded data of size: {df.shape}\")\n",
    "\n",
    "    #df.rename(columns={'neighbourhood_group': 'n_group'}, inplace=True)\n",
    "\n",
    "    # parsing dates and making a year and month col\n",
    "    df['last_review'] = pd.to_datetime(df['last_review'], format=\"%Y-%m-%d\")\n",
    "    df['year'] = df['last_review'].dt.year.astype(\"Int64\")\n",
    "    df['month'] = df['last_review'].dt.month.astype(\"Int64\")\n",
    "    df['day'] = df['last_review'].dt.day.astype(\"Int64\")\n",
    "\n",
    "    # dropping extreme price outliers and adding a price category\n",
    "    df = df.query(\"10 < price < 9000\").dropna()\n",
    "    print(f\"Dropped outliers, data size: {df.shape}\")\n",
    "    \n",
    "    df[\"price_type\"] = pd.cut(df.price, [0, 120, 350, 1500, 9000], prices)\n",
    "    \n",
    "    # add a mean vector for names\n",
    "    df[\"name_vec\"] = df.name.apply(lambda x: np.mean(nlp(x).vector))\n",
    "    \n",
    "    return df.sample(frac=fraction)\n",
    "\n",
    "df = load_data(0.8)\n",
    "print(df.shape)\n",
    "print(df.price_type.value_counts())\n",
    "df.head(3)"
   ]
  },
  {
   "cell_type": "code",
   "execution_count": 197,
   "metadata": {},
   "outputs": [
    {
     "name": "stdout",
     "output_type": "stream",
     "text": [
      "medium       11855\n",
      "budget       11501\n",
      "cheap         6389\n",
      "expensive     1202\n",
      "superlux        89\n",
      "Name: price_type, dtype: int64\n"
     ]
    },
    {
     "data": {
      "image/png": "[encoded data removed]",
      "text/plain": [
       "<Figure size 432x288 with 1 Axes>"
      ]
     },
     "metadata": {
      "needs_background": "light"
     },
     "output_type": "display_data"
    }
   ],
   "source": [
    "prices =[\"cheap\", \"budget\", \"medium\", \"expensive\", \"superlux\"]\n",
    "df[\"price_type\"] = pd.cut(df.price, [0, 60, 120, 350, 1000, 9000], labels=prices)\n",
    "print(df.price_type.value_counts())\n",
    "df.price_type.value_counts().plot.bar();"
   ]
  },
  {
   "cell_type": "markdown",
   "metadata": {},
   "source": [
    "Converting data suitable for training for a regression algo:"
   ]
  },
  {
   "cell_type": "code",
   "execution_count": null,
   "metadata": {},
   "outputs": [],
   "source": [
    "scaler = StandardScaler().fit(X_train)\n",
    "\n",
    "cols_to_transform = df.columns[:-1]\n",
    "\n",
    "x_train = X_train\n",
    "x_train[cols_to_transform] = scaler.transform(X_train[cols_to_transform])"
   ]
  },
  {
   "cell_type": "code",
   "execution_count": 181,
   "metadata": {},
   "outputs": [
    {
     "data": {
      "text/plain": [
       "(31036, 31036)"
      ]
     },
     "execution_count": 181,
     "metadata": {},
     "output_type": "execute_result"
    }
   ],
   "source": [
    "len(X), len(df.price)"
   ]
  },
  {
   "cell_type": "code",
   "execution_count": 182,
   "metadata": {},
   "outputs": [
    {
     "name": "stdout",
     "output_type": "stream",
     "text": [
      "(23277, 16) (7759, 16) 23277\n"
     ]
    },
    {
     "data": {
      "text/html": [
       "<div>\n",
       "<style scoped>\n",
       "    .dataframe tbody tr th:only-of-type {\n",
       "        vertical-align: middle;\n",
       "    }\n",
       "\n",
       "    .dataframe tbody tr th {\n",
       "        vertical-align: top;\n",
       "    }\n",
       "\n",
       "    .dataframe thead th {\n",
       "        text-align: right;\n",
       "    }\n",
       "</style>\n",
       "<table border=\"1\" class=\"dataframe\">\n",
       "  <thead>\n",
       "    <tr style=\"text-align: right;\">\n",
       "      <th></th>\n",
       "      <th>host_id</th>\n",
       "      <th>host_name</th>\n",
       "      <th>neighbourhood_group</th>\n",
       "      <th>neighbourhood</th>\n",
       "      <th>latitude</th>\n",
       "      <th>longitude</th>\n",
       "      <th>room_type</th>\n",
       "      <th>minimum_nights</th>\n",
       "      <th>number_of_reviews</th>\n",
       "      <th>reviews_per_month</th>\n",
       "      <th>calculated_host_listings_count</th>\n",
       "      <th>availability_365</th>\n",
       "      <th>year</th>\n",
       "      <th>month</th>\n",
       "      <th>day</th>\n",
       "      <th>name_vec</th>\n",
       "    </tr>\n",
       "  </thead>\n",
       "  <tbody>\n",
       "    <tr>\n",
       "      <th>1472</th>\n",
       "      <td>3320650.0</td>\n",
       "      <td>302.0</td>\n",
       "      <td>0.0</td>\n",
       "      <td>18.0</td>\n",
       "      <td>40.801399</td>\n",
       "      <td>-73.943611</td>\n",
       "      <td>1.0</td>\n",
       "      <td>1.0</td>\n",
       "      <td>37.0</td>\n",
       "      <td>0.45</td>\n",
       "      <td>1.0</td>\n",
       "      <td>365.0</td>\n",
       "      <td>2019.0</td>\n",
       "      <td>6.0</td>\n",
       "      <td>2.0</td>\n",
       "      <td>0.016377</td>\n",
       "    </tr>\n",
       "    <tr>\n",
       "      <th>43605</th>\n",
       "      <td>254382560.0</td>\n",
       "      <td>2823.0</td>\n",
       "      <td>0.0</td>\n",
       "      <td>34.0</td>\n",
       "      <td>40.843769</td>\n",
       "      <td>-73.936661</td>\n",
       "      <td>1.0</td>\n",
       "      <td>1.0</td>\n",
       "      <td>18.0</td>\n",
       "      <td>6.07</td>\n",
       "      <td>1.0</td>\n",
       "      <td>305.0</td>\n",
       "      <td>2019.0</td>\n",
       "      <td>6.0</td>\n",
       "      <td>29.0</td>\n",
       "      <td>0.032548</td>\n",
       "    </tr>\n",
       "    <tr>\n",
       "      <th>32285</th>\n",
       "      <td>181074928.0</td>\n",
       "      <td>814.0</td>\n",
       "      <td>0.0</td>\n",
       "      <td>86.0</td>\n",
       "      <td>40.717049</td>\n",
       "      <td>-73.998177</td>\n",
       "      <td>2.0</td>\n",
       "      <td>1.0</td>\n",
       "      <td>20.0</td>\n",
       "      <td>1.53</td>\n",
       "      <td>3.0</td>\n",
       "      <td>354.0</td>\n",
       "      <td>2019.0</td>\n",
       "      <td>6.0</td>\n",
       "      <td>16.0</td>\n",
       "      <td>0.031569</td>\n",
       "    </tr>\n",
       "  </tbody>\n",
       "</table>\n",
       "</div>"
      ],
      "text/plain": [
       "           host_id  host_name  neighbourhood_group  neighbourhood   latitude  \\\n",
       "1472     3320650.0      302.0                  0.0           18.0  40.801399   \n",
       "43605  254382560.0     2823.0                  0.0           34.0  40.843769   \n",
       "32285  181074928.0      814.0                  0.0           86.0  40.717049   \n",
       "\n",
       "       longitude  room_type  minimum_nights  number_of_reviews  \\\n",
       "1472  -73.943611        1.0             1.0               37.0   \n",
       "43605 -73.936661        1.0             1.0               18.0   \n",
       "32285 -73.998177        2.0             1.0               20.0   \n",
       "\n",
       "       reviews_per_month  calculated_host_listings_count  availability_365  \\\n",
       "1472                0.45                             1.0             365.0   \n",
       "43605               6.07                             1.0             305.0   \n",
       "32285               1.53                             3.0             354.0   \n",
       "\n",
       "         year  month   day  name_vec  \n",
       "1472   2019.0    6.0   2.0  0.016377  \n",
       "43605  2019.0    6.0  29.0  0.032548  \n",
       "32285  2019.0    6.0  16.0  0.031569  "
      ]
     },
     "execution_count": 182,
     "metadata": {},
     "output_type": "execute_result"
    }
   ],
   "source": [
    "X = df.drop(columns=[\"name\", \"id\", \"last_review\", \"price\", \"price_type\"])\n",
    "\n",
    "for col in [\"host_name\", \"neighbourhood\", \"neighbourhood_group\", \"room_type\"]:\n",
    "    labels, _ = X[col].factorize()\n",
    "    X[col] = labels\n",
    "\n",
    "X = X.astype(\"float32\", errors=\"ignore\")\n",
    "\n",
    "\n",
    "X_train, X_test, y_train, y_test = train_test_split(X, df.price_type)\n",
    "print(X_train.shape, X_test.shape, len(y_train))\n",
    "\n",
    "X_train.head(3)"
   ]
  },
  {
   "cell_type": "code",
   "execution_count": 198,
   "metadata": {},
   "outputs": [],
   "source": [
    "from sklearn.ensemble import GradientBoostingClassifier\n",
    "from sklearn.ensemble import GradientBoostingRegressor"
   ]
  },
  {
   "cell_type": "markdown",
   "metadata": {},
   "source": [
    "## Price prediction"
   ]
  },
  {
   "cell_type": "code",
   "execution_count": 186,
   "metadata": {},
   "outputs": [
    {
     "name": "stdout",
     "output_type": "stream",
     "text": [
      "(23277, 16) (7759, 16) 23277\n"
     ]
    },
    {
     "data": {
      "text/plain": [
       "0.40028077394372696"
      ]
     },
     "execution_count": 186,
     "metadata": {},
     "output_type": "execute_result"
    }
   ],
   "source": [
    "X = df.drop(columns=[\"name\", \"id\", \"last_review\", \"price\", \"price_type\"])\n",
    "\n",
    "for col in [\"host_name\", \"neighbourhood\", \"neighbourhood_group\", \"room_type\"]:\n",
    "    labels, _ = X[col].factorize()\n",
    "    X[col] = labels\n",
    "\n",
    "X = X.astype(\"float32\", errors=\"ignore\")\n",
    "\n",
    "\n",
    "X_train, X_test, y_train, y_test = train_test_split(X, df.price)\n",
    "print(X_train.shape, X_test.shape, len(y_train))\n",
    "\n",
    "X_train.head(3)\n",
    "\n",
    "clf = GradientBoostingRegressor()\n",
    "\n",
    "clf.fit(X_train, y_train)\n",
    "\n",
    "clf.score(X_train, y_train)"
   ]
  },
  {
   "cell_type": "markdown",
   "metadata": {},
   "source": [
    "## Price Classification"
   ]
  },
  {
   "cell_type": "code",
   "execution_count": 195,
   "metadata": {},
   "outputs": [
    {
     "data": {
      "text/plain": [
       "0.6902629204794433"
      ]
     },
     "execution_count": 195,
     "metadata": {},
     "output_type": "execute_result"
    }
   ],
   "source": [
    "clf = GradientBoostingClassifier()\n",
    "\n",
    "clf.fit(X, df.price_type)\n",
    "clf.score(X, df.price_type)"
   ]
  },
  {
   "cell_type": "code",
   "execution_count": 183,
   "metadata": {},
   "outputs": [
    {
     "data": {
      "text/plain": [
       "0.6966533487992439"
      ]
     },
     "execution_count": 183,
     "metadata": {},
     "output_type": "execute_result"
    }
   ],
   "source": [
    "from sklearn.ensemble import GradientBoostingClassifier\n",
    "from sklearn.ensemble import GradientBoostingRegressor\n",
    "\n",
    "clf = GradientBoostingClassifier()\n",
    "\n",
    "clf.fit(X_train, y_train)\n",
    "\n",
    "clf.score(X_train, y_train)"
   ]
  },
  {
   "cell_type": "code",
   "execution_count": 185,
   "metadata": {},
   "outputs": [
    {
     "data": {
      "text/markdown": [
       "## Train set classification report"
      ],
      "text/plain": [
       "<IPython.core.display.Markdown object>"
      ]
     },
     "metadata": {},
     "output_type": "display_data"
    },
    {
     "name": "stdout",
     "output_type": "stream",
     "text": [
      "              precision    recall  f1-score   support\n",
      "\n",
      "      budget       0.65      0.63      0.64      8630\n",
      "       cheap       0.70      0.72      0.71      4840\n",
      "   expensive       0.94      0.08      0.15       899\n",
      "      medium       0.73      0.81      0.77      8839\n",
      "    superlux       0.77      0.54      0.63        69\n",
      "\n",
      "    accuracy                           0.70     23277\n",
      "   macro avg       0.76      0.56      0.58     23277\n",
      "weighted avg       0.70      0.70      0.69     23277\n",
      "\n"
     ]
    },
    {
     "data": {
      "text/html": [
       "<div>\n",
       "<style scoped>\n",
       "    .dataframe tbody tr th:only-of-type {\n",
       "        vertical-align: middle;\n",
       "    }\n",
       "\n",
       "    .dataframe tbody tr th {\n",
       "        vertical-align: top;\n",
       "    }\n",
       "\n",
       "    .dataframe thead th {\n",
       "        text-align: right;\n",
       "    }\n",
       "</style>\n",
       "<table border=\"1\" class=\"dataframe\">\n",
       "  <thead>\n",
       "    <tr style=\"text-align: right;\">\n",
       "      <th></th>\n",
       "      <th>cheap</th>\n",
       "      <th>budget</th>\n",
       "      <th>medium</th>\n",
       "      <th>expensive</th>\n",
       "      <th>superlux</th>\n",
       "    </tr>\n",
       "  </thead>\n",
       "  <tbody>\n",
       "    <tr>\n",
       "      <th>cheap</th>\n",
       "      <td>5472</td>\n",
       "      <td>1338</td>\n",
       "      <td>0</td>\n",
       "      <td>1819</td>\n",
       "      <td>1</td>\n",
       "    </tr>\n",
       "    <tr>\n",
       "      <th>budget</th>\n",
       "      <td>1319</td>\n",
       "      <td>3467</td>\n",
       "      <td>0</td>\n",
       "      <td>54</td>\n",
       "      <td>0</td>\n",
       "    </tr>\n",
       "    <tr>\n",
       "      <th>medium</th>\n",
       "      <td>68</td>\n",
       "      <td>12</td>\n",
       "      <td>73</td>\n",
       "      <td>744</td>\n",
       "      <td>2</td>\n",
       "    </tr>\n",
       "    <tr>\n",
       "      <th>expensive</th>\n",
       "      <td>1548</td>\n",
       "      <td>111</td>\n",
       "      <td>5</td>\n",
       "      <td>7167</td>\n",
       "      <td>8</td>\n",
       "    </tr>\n",
       "    <tr>\n",
       "      <th>superlux</th>\n",
       "      <td>1</td>\n",
       "      <td>0</td>\n",
       "      <td>0</td>\n",
       "      <td>31</td>\n",
       "      <td>37</td>\n",
       "    </tr>\n",
       "  </tbody>\n",
       "</table>\n",
       "</div>"
      ],
      "text/plain": [
       "           cheap  budget  medium  expensive  superlux\n",
       "cheap       5472    1338       0       1819         1\n",
       "budget      1319    3467       0         54         0\n",
       "medium        68      12      73        744         2\n",
       "expensive   1548     111       5       7167         8\n",
       "superlux       1       0       0         31        37"
      ]
     },
     "metadata": {},
     "output_type": "display_data"
    },
    {
     "data": {
      "text/markdown": [
       "## Test set classification report"
      ],
      "text/plain": [
       "<IPython.core.display.Markdown object>"
      ]
     },
     "metadata": {},
     "output_type": "display_data"
    },
    {
     "name": "stdout",
     "output_type": "stream",
     "text": [
      "              precision    recall  f1-score   support\n",
      "\n",
      "      budget       0.62      0.60      0.61      2871\n",
      "       cheap       0.67      0.69      0.68      1549\n",
      "   expensive       0.54      0.05      0.09       303\n",
      "      medium       0.72      0.79      0.75      3016\n",
      "    superlux       0.00      0.00      0.00        20\n",
      "\n",
      "    accuracy                           0.67      7759\n",
      "   macro avg       0.51      0.43      0.43      7759\n",
      "weighted avg       0.66      0.67      0.66      7759\n",
      "\n"
     ]
    },
    {
     "data": {
      "text/html": [
       "<div>\n",
       "<style scoped>\n",
       "    .dataframe tbody tr th:only-of-type {\n",
       "        vertical-align: middle;\n",
       "    }\n",
       "\n",
       "    .dataframe tbody tr th {\n",
       "        vertical-align: top;\n",
       "    }\n",
       "\n",
       "    .dataframe thead th {\n",
       "        text-align: right;\n",
       "    }\n",
       "</style>\n",
       "<table border=\"1\" class=\"dataframe\">\n",
       "  <thead>\n",
       "    <tr style=\"text-align: right;\">\n",
       "      <th></th>\n",
       "      <th>cheap</th>\n",
       "      <th>budget</th>\n",
       "      <th>medium</th>\n",
       "      <th>expensive</th>\n",
       "      <th>superlux</th>\n",
       "    </tr>\n",
       "  </thead>\n",
       "  <tbody>\n",
       "    <tr>\n",
       "      <th>cheap</th>\n",
       "      <td>1726</td>\n",
       "      <td>496</td>\n",
       "      <td>1</td>\n",
       "      <td>646</td>\n",
       "      <td>2</td>\n",
       "    </tr>\n",
       "    <tr>\n",
       "      <th>budget</th>\n",
       "      <td>461</td>\n",
       "      <td>1065</td>\n",
       "      <td>0</td>\n",
       "      <td>22</td>\n",
       "      <td>1</td>\n",
       "    </tr>\n",
       "    <tr>\n",
       "      <th>medium</th>\n",
       "      <td>24</td>\n",
       "      <td>1</td>\n",
       "      <td>15</td>\n",
       "      <td>259</td>\n",
       "      <td>4</td>\n",
       "    </tr>\n",
       "    <tr>\n",
       "      <th>expensive</th>\n",
       "      <td>574</td>\n",
       "      <td>37</td>\n",
       "      <td>8</td>\n",
       "      <td>2385</td>\n",
       "      <td>12</td>\n",
       "    </tr>\n",
       "    <tr>\n",
       "      <th>superlux</th>\n",
       "      <td>1</td>\n",
       "      <td>1</td>\n",
       "      <td>4</td>\n",
       "      <td>14</td>\n",
       "      <td>0</td>\n",
       "    </tr>\n",
       "  </tbody>\n",
       "</table>\n",
       "</div>"
      ],
      "text/plain": [
       "           cheap  budget  medium  expensive  superlux\n",
       "cheap       1726     496       1        646         2\n",
       "budget       461    1065       0         22         1\n",
       "medium        24       1      15        259         4\n",
       "expensive    574      37       8       2385        12\n",
       "superlux       1       1       4         14         0"
      ]
     },
     "metadata": {},
     "output_type": "display_data"
    }
   ],
   "source": [
    "def make_report(clf, labels=prices):\n",
    "    \"\"\"takes in a clf and outputs metrics on train and test sets\"\"\"\n",
    "    \n",
    "    for x, y, name in zip([X_train, X_test], [y_train, y_test], [\"Train\", \"Test\"]):\n",
    "        y_pred = clf.predict(x)\n",
    "        printmd(f\"## {name} set classification report\")\n",
    "        print(metrics.classification_rep`ort(y, y_pred))\n",
    "        \n",
    "        cm = metrics.confusion_matrix(y, y_pred)\n",
    "        df_cm = pd.DataFrame(cm, columns=labels, index=labels)\n",
    "        display(df_cm)\n",
    "\n",
    "make_report(clf)"
   ]
  },
  {
   "cell_type": "code",
   "execution_count": null,
   "metadata": {},
   "outputs": [],
   "source": [
    "metrics.classification_report()"
   ]
  },
  {
   "cell_type": "code",
   "execution_count": 139,
   "metadata": {},
   "outputs": [
    {
     "ename": "NotFittedError",
     "evalue": "This GradientBoostingClassifier instance is not fitted yet. Call 'fit' with appropriate arguments before using this method.",
     "output_type": "error",
     "traceback": [
      "\u001b[0;31m---------------------------------------------------------------------------\u001b[0m",
      "\u001b[0;31mNotFittedError\u001b[0m                            Traceback (most recent call last)",
      "\u001b[0;32m<ipython-input-139-70d2066322d4>\u001b[0m in \u001b[0;36m<module>\u001b[0;34m\u001b[0m\n\u001b[0;32m----> 1\u001b[0;31m \u001b[0mclf\u001b[0m\u001b[0;34m.\u001b[0m\u001b[0mscore\u001b[0m\u001b[0;34m(\u001b[0m\u001b[0mscaler\u001b[0m\u001b[0;34m.\u001b[0m\u001b[0mtransform\u001b[0m\u001b[0;34m(\u001b[0m\u001b[0mX_test\u001b[0m\u001b[0;34m)\u001b[0m\u001b[0;34m,\u001b[0m \u001b[0my_test\u001b[0m\u001b[0;34m)\u001b[0m\u001b[0;34m\u001b[0m\u001b[0;34m\u001b[0m\u001b[0m\n\u001b[0m",
      "\u001b[0;32m/anaconda3/lib/python3.7/site-packages/sklearn/base.py\u001b[0m in \u001b[0;36mscore\u001b[0;34m(self, X, y, sample_weight)\u001b[0m\n\u001b[1;32m    355\u001b[0m         \"\"\"\n\u001b[1;32m    356\u001b[0m         \u001b[0;32mfrom\u001b[0m \u001b[0;34m.\u001b[0m\u001b[0mmetrics\u001b[0m \u001b[0;32mimport\u001b[0m \u001b[0maccuracy_score\u001b[0m\u001b[0;34m\u001b[0m\u001b[0;34m\u001b[0m\u001b[0m\n\u001b[0;32m--> 357\u001b[0;31m         \u001b[0;32mreturn\u001b[0m \u001b[0maccuracy_score\u001b[0m\u001b[0;34m(\u001b[0m\u001b[0my\u001b[0m\u001b[0;34m,\u001b[0m \u001b[0mself\u001b[0m\u001b[0;34m.\u001b[0m\u001b[0mpredict\u001b[0m\u001b[0;34m(\u001b[0m\u001b[0mX\u001b[0m\u001b[0;34m)\u001b[0m\u001b[0;34m,\u001b[0m \u001b[0msample_weight\u001b[0m\u001b[0;34m=\u001b[0m\u001b[0msample_weight\u001b[0m\u001b[0;34m)\u001b[0m\u001b[0;34m\u001b[0m\u001b[0;34m\u001b[0m\u001b[0m\n\u001b[0m\u001b[1;32m    358\u001b[0m \u001b[0;34m\u001b[0m\u001b[0m\n\u001b[1;32m    359\u001b[0m \u001b[0;34m\u001b[0m\u001b[0m\n",
      "\u001b[0;32m/anaconda3/lib/python3.7/site-packages/sklearn/ensemble/gradient_boosting.py\u001b[0m in \u001b[0;36mpredict\u001b[0;34m(self, X)\u001b[0m\n\u001b[1;32m   2131\u001b[0m             \u001b[0mThe\u001b[0m \u001b[0mpredicted\u001b[0m \u001b[0mvalues\u001b[0m\u001b[0;34m.\u001b[0m\u001b[0;34m\u001b[0m\u001b[0;34m\u001b[0m\u001b[0m\n\u001b[1;32m   2132\u001b[0m         \"\"\"\n\u001b[0;32m-> 2133\u001b[0;31m         \u001b[0mraw_predictions\u001b[0m \u001b[0;34m=\u001b[0m \u001b[0mself\u001b[0m\u001b[0;34m.\u001b[0m\u001b[0mdecision_function\u001b[0m\u001b[0;34m(\u001b[0m\u001b[0mX\u001b[0m\u001b[0;34m)\u001b[0m\u001b[0;34m\u001b[0m\u001b[0;34m\u001b[0m\u001b[0m\n\u001b[0m\u001b[1;32m   2134\u001b[0m         \u001b[0mencoded_labels\u001b[0m \u001b[0;34m=\u001b[0m\u001b[0;31m \u001b[0m\u001b[0;31m\\\u001b[0m\u001b[0;34m\u001b[0m\u001b[0;34m\u001b[0m\u001b[0m\n\u001b[1;32m   2135\u001b[0m             \u001b[0mself\u001b[0m\u001b[0;34m.\u001b[0m\u001b[0mloss_\u001b[0m\u001b[0;34m.\u001b[0m\u001b[0m_raw_prediction_to_decision\u001b[0m\u001b[0;34m(\u001b[0m\u001b[0mraw_predictions\u001b[0m\u001b[0;34m)\u001b[0m\u001b[0;34m\u001b[0m\u001b[0;34m\u001b[0m\u001b[0m\n",
      "\u001b[0;32m/anaconda3/lib/python3.7/site-packages/sklearn/ensemble/gradient_boosting.py\u001b[0m in \u001b[0;36mdecision_function\u001b[0;34m(self, X)\u001b[0m\n\u001b[1;32m   2087\u001b[0m         \"\"\"\n\u001b[1;32m   2088\u001b[0m         \u001b[0mX\u001b[0m \u001b[0;34m=\u001b[0m \u001b[0mcheck_array\u001b[0m\u001b[0;34m(\u001b[0m\u001b[0mX\u001b[0m\u001b[0;34m,\u001b[0m \u001b[0mdtype\u001b[0m\u001b[0;34m=\u001b[0m\u001b[0mDTYPE\u001b[0m\u001b[0;34m,\u001b[0m \u001b[0morder\u001b[0m\u001b[0;34m=\u001b[0m\u001b[0;34m\"C\"\u001b[0m\u001b[0;34m,\u001b[0m \u001b[0maccept_sparse\u001b[0m\u001b[0;34m=\u001b[0m\u001b[0;34m'csr'\u001b[0m\u001b[0;34m)\u001b[0m\u001b[0;34m\u001b[0m\u001b[0;34m\u001b[0m\u001b[0m\n\u001b[0;32m-> 2089\u001b[0;31m         \u001b[0mraw_predictions\u001b[0m \u001b[0;34m=\u001b[0m \u001b[0mself\u001b[0m\u001b[0;34m.\u001b[0m\u001b[0m_raw_predict\u001b[0m\u001b[0;34m(\u001b[0m\u001b[0mX\u001b[0m\u001b[0;34m)\u001b[0m\u001b[0;34m\u001b[0m\u001b[0;34m\u001b[0m\u001b[0m\n\u001b[0m\u001b[1;32m   2090\u001b[0m         \u001b[0;32mif\u001b[0m \u001b[0mraw_predictions\u001b[0m\u001b[0;34m.\u001b[0m\u001b[0mshape\u001b[0m\u001b[0;34m[\u001b[0m\u001b[0;36m1\u001b[0m\u001b[0;34m]\u001b[0m \u001b[0;34m==\u001b[0m \u001b[0;36m1\u001b[0m\u001b[0;34m:\u001b[0m\u001b[0;34m\u001b[0m\u001b[0;34m\u001b[0m\u001b[0m\n\u001b[1;32m   2091\u001b[0m             \u001b[0;32mreturn\u001b[0m \u001b[0mraw_predictions\u001b[0m\u001b[0;34m.\u001b[0m\u001b[0mravel\u001b[0m\u001b[0;34m(\u001b[0m\u001b[0;34m)\u001b[0m\u001b[0;34m\u001b[0m\u001b[0;34m\u001b[0m\u001b[0m\n",
      "\u001b[0;32m/anaconda3/lib/python3.7/site-packages/sklearn/ensemble/gradient_boosting.py\u001b[0m in \u001b[0;36m_raw_predict\u001b[0;34m(self, X)\u001b[0m\n\u001b[1;32m   1669\u001b[0m     \u001b[0;32mdef\u001b[0m \u001b[0m_raw_predict\u001b[0m\u001b[0;34m(\u001b[0m\u001b[0mself\u001b[0m\u001b[0;34m,\u001b[0m \u001b[0mX\u001b[0m\u001b[0;34m)\u001b[0m\u001b[0;34m:\u001b[0m\u001b[0;34m\u001b[0m\u001b[0;34m\u001b[0m\u001b[0m\n\u001b[1;32m   1670\u001b[0m         \u001b[0;34m\"\"\"Return the sum of the trees raw predictions (+ init estimator).\"\"\"\u001b[0m\u001b[0;34m\u001b[0m\u001b[0;34m\u001b[0m\u001b[0m\n\u001b[0;32m-> 1671\u001b[0;31m         \u001b[0mraw_predictions\u001b[0m \u001b[0;34m=\u001b[0m \u001b[0mself\u001b[0m\u001b[0;34m.\u001b[0m\u001b[0m_raw_predict_init\u001b[0m\u001b[0;34m(\u001b[0m\u001b[0mX\u001b[0m\u001b[0;34m)\u001b[0m\u001b[0;34m\u001b[0m\u001b[0;34m\u001b[0m\u001b[0m\n\u001b[0m\u001b[1;32m   1672\u001b[0m         predict_stages(self.estimators_, X, self.learning_rate,\n\u001b[1;32m   1673\u001b[0m                        raw_predictions)\n",
      "\u001b[0;32m/anaconda3/lib/python3.7/site-packages/sklearn/ensemble/gradient_boosting.py\u001b[0m in \u001b[0;36m_raw_predict_init\u001b[0;34m(self, X)\u001b[0m\n\u001b[1;32m   1654\u001b[0m     \u001b[0;32mdef\u001b[0m \u001b[0m_raw_predict_init\u001b[0m\u001b[0;34m(\u001b[0m\u001b[0mself\u001b[0m\u001b[0;34m,\u001b[0m \u001b[0mX\u001b[0m\u001b[0;34m)\u001b[0m\u001b[0;34m:\u001b[0m\u001b[0;34m\u001b[0m\u001b[0;34m\u001b[0m\u001b[0m\n\u001b[1;32m   1655\u001b[0m         \u001b[0;34m\"\"\"Check input and compute raw predictions of the init estimtor.\"\"\"\u001b[0m\u001b[0;34m\u001b[0m\u001b[0;34m\u001b[0m\u001b[0m\n\u001b[0;32m-> 1656\u001b[0;31m         \u001b[0mself\u001b[0m\u001b[0;34m.\u001b[0m\u001b[0m_check_initialized\u001b[0m\u001b[0;34m(\u001b[0m\u001b[0;34m)\u001b[0m\u001b[0;34m\u001b[0m\u001b[0;34m\u001b[0m\u001b[0m\n\u001b[0m\u001b[1;32m   1657\u001b[0m         \u001b[0mX\u001b[0m \u001b[0;34m=\u001b[0m \u001b[0mself\u001b[0m\u001b[0;34m.\u001b[0m\u001b[0mestimators_\u001b[0m\u001b[0;34m[\u001b[0m\u001b[0;36m0\u001b[0m\u001b[0;34m,\u001b[0m \u001b[0;36m0\u001b[0m\u001b[0;34m]\u001b[0m\u001b[0;34m.\u001b[0m\u001b[0m_validate_X_predict\u001b[0m\u001b[0;34m(\u001b[0m\u001b[0mX\u001b[0m\u001b[0;34m,\u001b[0m \u001b[0mcheck_input\u001b[0m\u001b[0;34m=\u001b[0m\u001b[0;32mTrue\u001b[0m\u001b[0;34m)\u001b[0m\u001b[0;34m\u001b[0m\u001b[0;34m\u001b[0m\u001b[0m\n\u001b[1;32m   1658\u001b[0m         \u001b[0;32mif\u001b[0m \u001b[0mX\u001b[0m\u001b[0;34m.\u001b[0m\u001b[0mshape\u001b[0m\u001b[0;34m[\u001b[0m\u001b[0;36m1\u001b[0m\u001b[0;34m]\u001b[0m \u001b[0;34m!=\u001b[0m \u001b[0mself\u001b[0m\u001b[0;34m.\u001b[0m\u001b[0mn_features_\u001b[0m\u001b[0;34m:\u001b[0m\u001b[0;34m\u001b[0m\u001b[0;34m\u001b[0m\u001b[0m\n",
      "\u001b[0;32m/anaconda3/lib/python3.7/site-packages/sklearn/ensemble/gradient_boosting.py\u001b[0m in \u001b[0;36m_check_initialized\u001b[0;34m(self)\u001b[0m\n\u001b[1;32m   1391\u001b[0m     \u001b[0;32mdef\u001b[0m \u001b[0m_check_initialized\u001b[0m\u001b[0;34m(\u001b[0m\u001b[0mself\u001b[0m\u001b[0;34m)\u001b[0m\u001b[0;34m:\u001b[0m\u001b[0;34m\u001b[0m\u001b[0;34m\u001b[0m\u001b[0m\n\u001b[1;32m   1392\u001b[0m         \u001b[0;34m\"\"\"Check that the estimator is initialized, raising an error if not.\"\"\"\u001b[0m\u001b[0;34m\u001b[0m\u001b[0;34m\u001b[0m\u001b[0m\n\u001b[0;32m-> 1393\u001b[0;31m         \u001b[0mcheck_is_fitted\u001b[0m\u001b[0;34m(\u001b[0m\u001b[0mself\u001b[0m\u001b[0;34m,\u001b[0m \u001b[0;34m'estimators_'\u001b[0m\u001b[0;34m)\u001b[0m\u001b[0;34m\u001b[0m\u001b[0;34m\u001b[0m\u001b[0m\n\u001b[0m\u001b[1;32m   1394\u001b[0m \u001b[0;34m\u001b[0m\u001b[0m\n\u001b[1;32m   1395\u001b[0m     \u001b[0;32mdef\u001b[0m \u001b[0mfit\u001b[0m\u001b[0;34m(\u001b[0m\u001b[0mself\u001b[0m\u001b[0;34m,\u001b[0m \u001b[0mX\u001b[0m\u001b[0;34m,\u001b[0m \u001b[0my\u001b[0m\u001b[0;34m,\u001b[0m \u001b[0msample_weight\u001b[0m\u001b[0;34m=\u001b[0m\u001b[0;32mNone\u001b[0m\u001b[0;34m,\u001b[0m \u001b[0mmonitor\u001b[0m\u001b[0;34m=\u001b[0m\u001b[0;32mNone\u001b[0m\u001b[0;34m)\u001b[0m\u001b[0;34m:\u001b[0m\u001b[0;34m\u001b[0m\u001b[0;34m\u001b[0m\u001b[0m\n",
      "\u001b[0;32m/anaconda3/lib/python3.7/site-packages/sklearn/utils/validation.py\u001b[0m in \u001b[0;36mcheck_is_fitted\u001b[0;34m(estimator, attributes, msg, all_or_any)\u001b[0m\n\u001b[1;32m    912\u001b[0m \u001b[0;34m\u001b[0m\u001b[0m\n\u001b[1;32m    913\u001b[0m     \u001b[0;32mif\u001b[0m \u001b[0;32mnot\u001b[0m \u001b[0mall_or_any\u001b[0m\u001b[0;34m(\u001b[0m\u001b[0;34m[\u001b[0m\u001b[0mhasattr\u001b[0m\u001b[0;34m(\u001b[0m\u001b[0mestimator\u001b[0m\u001b[0;34m,\u001b[0m \u001b[0mattr\u001b[0m\u001b[0;34m)\u001b[0m \u001b[0;32mfor\u001b[0m \u001b[0mattr\u001b[0m \u001b[0;32min\u001b[0m \u001b[0mattributes\u001b[0m\u001b[0;34m]\u001b[0m\u001b[0;34m)\u001b[0m\u001b[0;34m:\u001b[0m\u001b[0;34m\u001b[0m\u001b[0;34m\u001b[0m\u001b[0m\n\u001b[0;32m--> 914\u001b[0;31m         \u001b[0;32mraise\u001b[0m \u001b[0mNotFittedError\u001b[0m\u001b[0;34m(\u001b[0m\u001b[0mmsg\u001b[0m \u001b[0;34m%\u001b[0m \u001b[0;34m{\u001b[0m\u001b[0;34m'name'\u001b[0m\u001b[0;34m:\u001b[0m \u001b[0mtype\u001b[0m\u001b[0;34m(\u001b[0m\u001b[0mestimator\u001b[0m\u001b[0;34m)\u001b[0m\u001b[0;34m.\u001b[0m\u001b[0m__name__\u001b[0m\u001b[0;34m}\u001b[0m\u001b[0;34m)\u001b[0m\u001b[0;34m\u001b[0m\u001b[0;34m\u001b[0m\u001b[0m\n\u001b[0m\u001b[1;32m    915\u001b[0m \u001b[0;34m\u001b[0m\u001b[0m\n\u001b[1;32m    916\u001b[0m \u001b[0;34m\u001b[0m\u001b[0m\n",
      "\u001b[0;31mNotFittedError\u001b[0m: This GradientBoostingClassifier instance is not fitted yet. Call 'fit' with appropriate arguments before using this method."
     ]
    }
   ],
   "source": [
    "clf.score(scaler.transform(X_test), y_test)"
   ]
  },
  {
   "cell_type": "code",
   "execution_count": 32,
   "metadata": {},
   "outputs": [
    {
     "data": {
      "text/plain": [
       "(101, 950)"
      ]
     },
     "execution_count": 32,
     "metadata": {},
     "output_type": "execute_result"
    }
   ],
   "source": [
    "d.price.min(), d.price.max()"
   ]
  },
  {
   "cell_type": "code",
   "execution_count": 37,
   "metadata": {},
   "outputs": [
    {
     "data": {
      "text/plain": [
       "['Brooklyn', 'Queens', 'Manhattan', 'Bronx', 'Staten Island']"
      ]
     },
     "execution_count": 37,
     "metadata": {},
     "output_type": "execute_result"
    }
   ],
   "source": [
    "n_groups = list(df.neighbourhood_group.unique())\n",
    "n_groups"
   ]
  },
  {
   "cell_type": "code",
   "execution_count": 39,
   "metadata": {},
   "outputs": [
    {
     "data": {
      "text/html": [
       "<div>\n",
       "<style scoped>\n",
       "    .dataframe tbody tr th:only-of-type {\n",
       "        vertical-align: middle;\n",
       "    }\n",
       "\n",
       "    .dataframe tbody tr th {\n",
       "        vertical-align: top;\n",
       "    }\n",
       "\n",
       "    .dataframe thead th {\n",
       "        text-align: right;\n",
       "    }\n",
       "</style>\n",
       "<table border=\"1\" class=\"dataframe\">\n",
       "  <thead>\n",
       "    <tr style=\"text-align: right;\">\n",
       "      <th></th>\n",
       "      <th>id</th>\n",
       "      <th>name</th>\n",
       "      <th>host_id</th>\n",
       "      <th>host_name</th>\n",
       "      <th>neighbourhood_group</th>\n",
       "      <th>neighbourhood</th>\n",
       "      <th>latitude</th>\n",
       "      <th>longitude</th>\n",
       "      <th>room_type</th>\n",
       "      <th>price</th>\n",
       "      <th>minimum_nights</th>\n",
       "      <th>number_of_reviews</th>\n",
       "      <th>last_review</th>\n",
       "      <th>reviews_per_month</th>\n",
       "      <th>calculated_host_listings_count</th>\n",
       "      <th>availability_365</th>\n",
       "      <th>year</th>\n",
       "      <th>month</th>\n",
       "      <th>day</th>\n",
       "    </tr>\n",
       "  </thead>\n",
       "  <tbody>\n",
       "    <tr>\n",
       "      <td>37584</td>\n",
       "      <td>29821404</td>\n",
       "      <td>Sunny Bohemian Apartment in Solar Building!</td>\n",
       "      <td>224317523</td>\n",
       "      <td>Olivia</td>\n",
       "      <td>Brooklyn</td>\n",
       "      <td>South Slope</td>\n",
       "      <td>40.66402</td>\n",
       "      <td>-73.98282</td>\n",
       "      <td>Entire home/apt</td>\n",
       "      <td>285</td>\n",
       "      <td>5</td>\n",
       "      <td>29</td>\n",
       "      <td>2019-06-16</td>\n",
       "      <td>3.57</td>\n",
       "      <td>1</td>\n",
       "      <td>74</td>\n",
       "      <td>2019</td>\n",
       "      <td>6</td>\n",
       "      <td>16</td>\n",
       "    </tr>\n",
       "    <tr>\n",
       "      <td>7913</td>\n",
       "      <td>6065778</td>\n",
       "      <td>Sunny Apt near Park and Subways in Windsor Terr</td>\n",
       "      <td>12811150</td>\n",
       "      <td>Sarah</td>\n",
       "      <td>Brooklyn</td>\n",
       "      <td>Windsor Terrace</td>\n",
       "      <td>40.65888</td>\n",
       "      <td>-73.98013</td>\n",
       "      <td>Entire home/apt</td>\n",
       "      <td>128</td>\n",
       "      <td>5</td>\n",
       "      <td>83</td>\n",
       "      <td>2018-12-26</td>\n",
       "      <td>1.63</td>\n",
       "      <td>1</td>\n",
       "      <td>52</td>\n",
       "      <td>2018</td>\n",
       "      <td>12</td>\n",
       "      <td>26</td>\n",
       "    </tr>\n",
       "    <tr>\n",
       "      <td>9758</td>\n",
       "      <td>7500571</td>\n",
       "      <td>Gorgeous 1 Bedroom in Bed-Stuy</td>\n",
       "      <td>39288710</td>\n",
       "      <td>Audra</td>\n",
       "      <td>Brooklyn</td>\n",
       "      <td>Bedford-Stuyvesant</td>\n",
       "      <td>40.68544</td>\n",
       "      <td>-73.93872</td>\n",
       "      <td>Entire home/apt</td>\n",
       "      <td>102</td>\n",
       "      <td>3</td>\n",
       "      <td>64</td>\n",
       "      <td>2019-06-24</td>\n",
       "      <td>1.38</td>\n",
       "      <td>1</td>\n",
       "      <td>296</td>\n",
       "      <td>2019</td>\n",
       "      <td>6</td>\n",
       "      <td>24</td>\n",
       "    </tr>\n",
       "    <tr>\n",
       "      <td>44189</td>\n",
       "      <td>34092210</td>\n",
       "      <td>BEACH 2 BDR, 2 BTH NEW YORK, BRIGHTON BEACH</td>\n",
       "      <td>181356989</td>\n",
       "      <td>Kseniya</td>\n",
       "      <td>Brooklyn</td>\n",
       "      <td>Brighton Beach</td>\n",
       "      <td>40.57647</td>\n",
       "      <td>-73.96696</td>\n",
       "      <td>Entire home/apt</td>\n",
       "      <td>275</td>\n",
       "      <td>2</td>\n",
       "      <td>1</td>\n",
       "      <td>2019-06-30</td>\n",
       "      <td>1.00</td>\n",
       "      <td>2</td>\n",
       "      <td>56</td>\n",
       "      <td>2019</td>\n",
       "      <td>6</td>\n",
       "      <td>30</td>\n",
       "    </tr>\n",
       "    <tr>\n",
       "      <td>5100</td>\n",
       "      <td>3663798</td>\n",
       "      <td>Big WBurg Rm, 5 min from L, Fits 4!</td>\n",
       "      <td>18272570</td>\n",
       "      <td>Qian</td>\n",
       "      <td>Brooklyn</td>\n",
       "      <td>Williamsburg</td>\n",
       "      <td>40.70917</td>\n",
       "      <td>-73.94918</td>\n",
       "      <td>Private room</td>\n",
       "      <td>119</td>\n",
       "      <td>2</td>\n",
       "      <td>43</td>\n",
       "      <td>2016-06-30</td>\n",
       "      <td>0.72</td>\n",
       "      <td>1</td>\n",
       "      <td>0</td>\n",
       "      <td>2016</td>\n",
       "      <td>6</td>\n",
       "      <td>30</td>\n",
       "    </tr>\n",
       "  </tbody>\n",
       "</table>\n",
       "</div>"
      ],
      "text/plain": [
       "             id                                             name    host_id  \\\n",
       "37584  29821404      Sunny Bohemian Apartment in Solar Building!  224317523   \n",
       "7913    6065778  Sunny Apt near Park and Subways in Windsor Terr   12811150   \n",
       "9758    7500571                   Gorgeous 1 Bedroom in Bed-Stuy   39288710   \n",
       "44189  34092210      BEACH 2 BDR, 2 BTH NEW YORK, BRIGHTON BEACH  181356989   \n",
       "5100    3663798              Big WBurg Rm, 5 min from L, Fits 4!   18272570   \n",
       "\n",
       "      host_name neighbourhood_group       neighbourhood  latitude  longitude  \\\n",
       "37584    Olivia            Brooklyn         South Slope  40.66402  -73.98282   \n",
       "7913      Sarah            Brooklyn     Windsor Terrace  40.65888  -73.98013   \n",
       "9758      Audra            Brooklyn  Bedford-Stuyvesant  40.68544  -73.93872   \n",
       "44189   Kseniya            Brooklyn      Brighton Beach  40.57647  -73.96696   \n",
       "5100       Qian            Brooklyn        Williamsburg  40.70917  -73.94918   \n",
       "\n",
       "             room_type  price  minimum_nights  number_of_reviews last_review  \\\n",
       "37584  Entire home/apt    285               5                 29  2019-06-16   \n",
       "7913   Entire home/apt    128               5                 83  2018-12-26   \n",
       "9758   Entire home/apt    102               3                 64  2019-06-24   \n",
       "44189  Entire home/apt    275               2                  1  2019-06-30   \n",
       "5100      Private room    119               2                 43  2016-06-30   \n",
       "\n",
       "       reviews_per_month  calculated_host_listings_count  availability_365  \\\n",
       "37584               3.57                               1                74   \n",
       "7913                1.63                               1                52   \n",
       "9758                1.38                               1               296   \n",
       "44189               1.00                               2                56   \n",
       "5100                0.72                               1                 0   \n",
       "\n",
       "       year  month  day  \n",
       "37584  2019      6   16  \n",
       "7913   2018     12   26  \n",
       "9758   2019      6   24  \n",
       "44189  2019      6   30  \n",
       "5100   2016      6   30  "
      ]
     },
     "execution_count": 39,
     "metadata": {},
     "output_type": "execute_result"
    }
   ],
   "source": [
    "d = df.query(\"neighbourhood_group == @neighbourhood_group and 100 < price < 1000\")\n",
    "d.head()"
   ]
  },
  {
   "cell_type": "code",
   "execution_count": null,
   "metadata": {},
   "outputs": [],
   "source": []
  }
 ],
 "metadata": {
  "kernelspec": {
   "display_name": "Python 3",
   "language": "python",
   "name": "python3"
  },
  "language_info": {
   "codemirror_mode": {
    "name": "ipython",
    "version": 3
   },
   "file_extension": ".py",
   "mimetype": "text/x-python",
   "name": "python",
   "nbconvert_exporter": "python",
   "pygments_lexer": "ipython3",
   "version": "3.7.1"
  }
 },
 "nbformat": 4,
 "nbformat_minor": 2
}
